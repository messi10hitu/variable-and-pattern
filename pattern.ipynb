{
  "nbformat": 4,
  "nbformat_minor": 0,
  "metadata": {
    "colab": {
      "name": "pattern.ipynb",
      "provenance": [],
      "collapsed_sections": []
    },
    "kernelspec": {
      "name": "python3",
      "display_name": "Python 3"
    }
  },
  "cells": [
    {
      "cell_type": "markdown",
      "metadata": {
        "id": "3tfTHqmhAa0V",
        "colab_type": "text"
      },
      "source": [
        "the use of the operators."
      ]
    },
    {
      "cell_type": "code",
      "metadata": {
        "id": "TNkfuhS1x1_m",
        "colab_type": "code",
        "colab": {
          "base_uri": "https://localhost:8080/",
          "height": 187
        },
        "outputId": "56a812e1-1bea-42a9-996f-2c246fc1070b"
      },
      "source": [
        "\"\"\"\n",
        "print(\"***********************\")\n",
        "print(\"***********************\")\n",
        "print(\"***********************\")\n",
        "print(\"***********************\")\n",
        "\n",
        "print(\"*\"*10,end = \" \")\n",
        "print(\"*\"*10)\n",
        "print(\"*\"*10)\n",
        "print(\"*\"*10)\n",
        "print(\"*\"*10)\n",
        "a = (\"*****hitu******\")\n",
        "for i in range(5):\n",
        "  print(a)\n",
        "print(\"*    \")\n",
        "print(\"* *    \")\n",
        "print(\"* * *    \")\n",
        "print(\"* * * *    \")\n",
        "print(\"--------------\")\n",
        "print(\"* * * *    \")\n",
        "print(\"* * *    \")\n",
        "print(\"* *    \")\n",
        "print(\"*    \")\n",
        "print(\"--------------\")\n",
        "print(\"* \"*5)\n",
        "print(\"*       *\")\n",
        "print(\"*       *\")\n",
        "print(\"*       *\")\n",
        "print(\"*       *\")\n",
        "print(\"* \"*5)\n",
        "print(\"--------------\")\n",
        "x = \"hello\"\n",
        "print(x[0]*2,end = \"\")\n",
        "print(x[1]*2,end = \"\")\n",
        "print(x[2]*2,end = \"\")\n",
        "print(x[3]*2,end = \"\")\n",
        "print(x[4]*2,end = \"\")\n",
        "print(\"------or--------\")\n",
        "x = \"hello\"\n",
        "print((x[0]*2)+(x[1]*2)+(x[2]*2)+(x[3]*2)+(x[4]*2))\n",
        "print(\"--------------\")\n",
        "x = 'Apple'\n",
        "print(x[0]*1,x[0:2]*1,x[0:3]*1,x[0:4]*1,x[0:5]*1)\n",
        "\"\"\"\n",
        "print(\"--------------\")\n",
        "print(\"wap to generate a list with name, phn no,email address and store it ina list\")\n",
        "name = input(\"enter ur name: \")\n",
        "email = input(\"enter ur email id:\")\n",
        "phone_no = int(input(\"enter ur phn_no\"))\n",
        "print(name)\n",
        "print(email)\n",
        "print(phone_no)\n",
        "\n",
        "list1 = [name,email,phone_no]\n",
        "print(list1)\n",
        "\n",
        "dict1 = {\"naam\":name,\n",
        "        \"mail.id\":email,\n",
        "        \"phone\":phone_no}\n",
        "print(dict1)"
      ],
      "execution_count": 45,
      "outputs": [
        {
          "output_type": "stream",
          "text": [
            "--------------\n",
            "wap to generate a list with name, phn no,email address and store it ina list\n",
            " enter ur name: hitesh\n",
            "enter ur email id:salgotra.hitesh@gmail.com\n",
            "enter ur phn_no7590095532\n",
            "hitesh\n",
            "salgotra.hitesh@gmail.com\n",
            "7590095532\n",
            "['hitesh', 'salgotra.hitesh@gmail.com', 7590095532]\n",
            "{'naam': 'hitesh', 'mail.id': 'salgotra.hitesh@gmail.com', 'phone': 7590095532}\n"
          ],
          "name": "stdout"
        }
      ]
    },
    {
      "cell_type": "code",
      "metadata": {
        "id": "ToFoBl0VAmCz",
        "colab_type": "code",
        "colab": {}
      },
      "source": [
        ""
      ],
      "execution_count": 0,
      "outputs": []
    }
  ]
}